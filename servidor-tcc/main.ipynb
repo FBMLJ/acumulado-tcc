{
 "cells": [
  {
   "cell_type": "code",
   "execution_count": 39,
   "metadata": {},
   "outputs": [],
   "source": [
    "import pandas as pd"
   ]
  },
  {
   "cell_type": "code",
   "execution_count": 40,
   "metadata": {},
   "outputs": [],
   "source": [
    "df = pd.read_csv(\"AEP_hourly.csv\", parse_dates=[0])\n",
    "# df.head()\n",
    "\n",
    "df['hour'] = df['Datetime'].dt.hour\n",
    "df['day'] = df['Datetime'].dt.day\n",
    "df['month'] = df['Datetime'].dt.month\n",
    "df['weekday'] = df['Datetime'].dt.weekday\n",
    "df['year'] = df['Datetime'].dt.year\n",
    "df = df.query(\"year != 2018 and year!=2004\")\n",
    "df['year'].value_counts()\n",
    "\n",
    "\n",
    "delta =df['AEP_MW'].max()- df['AEP_MW'].min()\n",
    "df[\"grupo\"] = -10000\n",
    "for i in range(3):\n",
    "   df[\"grupo\"] = (df['AEP_MW'] - df['AEP_MW'].min())/(delta/3)\n",
    "\n",
    "df[\"grupo\"] = df[\"grupo\"].astype(int)\n"
   ]
  },
  {
   "cell_type": "code",
   "execution_count": 41,
   "metadata": {},
   "outputs": [],
   "source": [
    "\n",
    "vetor = df[\"grupo\"].to_list()[:-1]\n",
    "vetor = [vetor[0]]*1 + vetor\n",
    "df[\"ULTIMO_DADO_0\"] = vetor"
   ]
  },
  {
   "cell_type": "code",
   "execution_count": 42,
   "metadata": {},
   "outputs": [],
   "source": [
    "\n",
    "vetor = df[\"grupo\"].to_list()[:-1]\n",
    "vetor = [vetor[0]]*1 + vetor\n",
    "df[\"ULTIMO_DADO_1\"] = vetor"
   ]
  },
  {
   "cell_type": "code",
   "execution_count": 43,
   "metadata": {},
   "outputs": [],
   "source": [
    "\n",
    "vetor = df[\"grupo\"].to_list()[:-3]\n",
    "vetor = [vetor[0]]*3 + vetor\n",
    "df[\"ULTIMO_DADO_2\"] = vetor"
   ]
  },
  {
   "cell_type": "code",
   "execution_count": 44,
   "metadata": {},
   "outputs": [],
   "source": [
    "\n",
    "vetor = df[\"grupo\"].to_list()[:-5]\n",
    "vetor = [vetor[0]]*5 + vetor\n",
    "df[\"ULTIMO_DADO_3\"] = vetor"
   ]
  },
  {
   "cell_type": "code",
   "execution_count": 45,
   "metadata": {},
   "outputs": [],
   "source": [
    "\n",
    "vetor = df[\"grupo\"].to_list()[:-6]\n",
    "vetor = [vetor[0]]*6 + vetor\n",
    "df[\"ULTIMO_DADO_4\"] = vetor"
   ]
  },
  {
   "cell_type": "code",
   "execution_count": 46,
   "metadata": {},
   "outputs": [],
   "source": [
    "\n",
    "vetor = df[\"grupo\"].to_list()[:-12]\n",
    "vetor = [vetor[0]]*12 + vetor\n",
    "df[\"ULTIMO_DADO_5\"] = vetor"
   ]
  },
  {
   "cell_type": "code",
   "execution_count": 47,
   "metadata": {},
   "outputs": [],
   "source": [
    "\n",
    "vetor = df[\"grupo\"].to_list()[:-24]\n",
    "vetor = [vetor[0]]*24 + vetor\n",
    "df[\"ULTIMO_DADO_6\"] = vetor"
   ]
  },
  {
   "cell_type": "code",
   "execution_count": 48,
   "metadata": {},
   "outputs": [],
   "source": [
    "# df[['hour','day','month','weekday','year','grupo']].to_csv( \"./output/file.csv\",index=False )\n",
    "df[['hour','day','month','weekday','year',\"ULTIMO_DADO_1\",\"ULTIMO_DADO_2\",\"ULTIMO_DADO_3\",\"ULTIMO_DADO_4\",\"ULTIMO_DADO_5\",\"ULTIMO_DADO_6\" ,'grupo']].to_csv( \"./output/file.csv\",index=False )"
   ]
  },
  {
   "cell_type": "code",
   "execution_count": null,
   "metadata": {},
   "outputs": [],
   "source": []
  }
 ],
 "metadata": {
  "kernelspec": {
   "display_name": "Python 3.8.10 64-bit",
   "language": "python",
   "name": "python3"
  },
  "language_info": {
   "codemirror_mode": {
    "name": "ipython",
    "version": 3
   },
   "file_extension": ".py",
   "mimetype": "text/x-python",
   "name": "python",
   "nbconvert_exporter": "python",
   "pygments_lexer": "ipython3",
   "version": "3.8.10"
  },
  "orig_nbformat": 4,
  "vscode": {
   "interpreter": {
    "hash": "916dbcbb3f70747c44a77c7bcd40155683ae19c65e1c03b4aa3499c5328201f1"
   }
  }
 },
 "nbformat": 4,
 "nbformat_minor": 2
}
